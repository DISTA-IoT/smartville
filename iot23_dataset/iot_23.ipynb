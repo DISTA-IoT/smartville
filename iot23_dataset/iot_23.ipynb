{
 "cells": [
  {
   "cell_type": "code",
   "execution_count": null,
   "id": "7e0598ab-cd79-4fa2-ad1c-f22f790663b0",
   "metadata": {
    "tags": []
   },
   "outputs": [],
   "source": [
    "from pcap_splitter.splitter import PcapSplitter\n",
    "from scapy.all import rdpcap, wrpcap, IP, TCP\n",
    "import ipaddress\n",
    "import socket\n",
    "import os\n",
    "import pandas as pd\n",
    "import sklearn\n",
    "import zat\n",
    "import shutil\n",
    "\n",
    "from zat.log_to_dataframe import LogToDataFrame\n",
    "import numpy as np\n",
    "from scapy.all import rdpcap\n",
    "\n",
    "import time\n",
    "from tqdm.notebook import trange, tqdm\n",
    "import dpkt\n",
    "\n",
    "\n",
    "def list_files_in_directory(directory):\n",
    "    file_list = []\n",
    "    for filename in os.listdir(directory):\n",
    "        if os.path.isfile(os.path.join(directory, filename)):\n",
    "            file_list.append(filename)\n",
    "    return file_list\n",
    "\n",
    "\n",
    "\n",
    "def extract_5_tuple(pcap_file):\n",
    "    tuples = set()  # Using a set to ensure unique tuples\n",
    "    packets = rdpcap(pcap_file)\n",
    "    \n",
    "    print(f\"found {len(packets)} packets in file\")\n",
    "\n",
    "    for idx, packet in enumerate(packets):\n",
    "        if idx>0 and idx%50==0:\n",
    "            print(\".\")\n",
    "        if packet.haslayer('IP'):\n",
    "            ip_layer = packet['IP']\n",
    "            transport_layer = packet[ip_layer.payload.name]\n",
    "\n",
    "            # Extracting the 5-tuple information\n",
    "            src_ip = ip_layer.src\n",
    "            dst_ip = ip_layer.dst\n",
    "            src_port = transport_layer.sport\n",
    "            dst_port = transport_layer.dport\n",
    "            proto = ip_layer.proto\n",
    "\n",
    "            # Forming the 5-tuple\n",
    "            tuple_info = (src_ip, src_port, dst_ip, dst_port, proto)\n",
    "            tuples.add(tuple_info)\n",
    "\n",
    "    return tuples\n",
    "\n",
    "\n",
    "def extract_fist_useful_tuple(pcap_file, useful_ip):\n",
    "    packets = rdpcap(pcap_file)\n",
    "    \n",
    "    # print(f\"found {len(packets)} packets in file\")\n",
    "\n",
    "    for idx, packet in enumerate(packets):\n",
    "        if idx>0 and idx%50==0:\n",
    "            print(\".\")\n",
    "        if packet.haslayer('IP'):\n",
    "            ip_layer = packet['IP']\n",
    "            transport_layer = packet[ip_layer.payload.name]\n",
    "\n",
    "            # Extracting the 5-tuple information\n",
    "            src_ip = ip_layer.src\n",
    "            dst_ip = ip_layer.dst\n",
    "            if not hasattr(transport_layer, 'sport'):\n",
    "                continue\n",
    "            src_port = transport_layer.sport\n",
    "            dst_port = transport_layer.dport\n",
    "            proto = ip_layer.proto\n",
    "\n",
    "            # Forming the 5-tuple\n",
    "            tuple_info = (src_ip, src_port, dst_ip, dst_port, proto)\n",
    "            if src_ip == useful_ip:\n",
    "                return tuple_info\n",
    "\n",
    "    return None\n",
    "\n",
    "\n",
    "def move_files(file_list, source_folder, destination_folder):\n",
    "    for file_name in file_list:\n",
    "        source_file = os.path.join(source_folder, file_name)\n",
    "        destination_file = os.path.join(destination_folder, file_name)\n",
    "\n",
    "        try:\n",
    "            shutil.move(source_file, destination_file)\n",
    "        except FileNotFoundError:\n",
    "            print(f\"Error: {file_name} not found in {source_folder}\")\n",
    "        except Exception as e:\n",
    "            print(f\"Error while moving {file_name}: {e}\")"
   ]
  },
  {
   "cell_type": "code",
   "execution_count": null,
   "id": "d31100ab-b83c-4113-a305-e445c81465f5",
   "metadata": {
    "tags": []
   },
   "outputs": [],
   "source": [
    "# Good to print out versions of stuff\n",
    "print('zat: {:s}'.format(zat.__version__))\n",
    "print('Pandas: {:s}'.format(pd.__version__))\n",
    "print('Numpy: {:s}'.format(np.__version__))\n",
    "print('Scikit Learn Version:', sklearn.__version__)"
   ]
  },
  {
   "cell_type": "markdown",
   "id": "87dd2129-55dc-4fa4-a0cc-6c9118b64ff7",
   "metadata": {
    "tags": []
   },
   "source": [
    "# Hajime:"
   ]
  },
  {
   "cell_type": "code",
   "execution_count": null,
   "id": "438355ec-3e84-4f1d-881d-40d38c725f50",
   "metadata": {
    "tags": []
   },
   "outputs": [],
   "source": [
    "DATASET_ROOT = '/home/jovyan/nfs/jcevallos/datasets/iot23_full/'\n",
    "CURR_FOLDER = DATASET_ROOT + 'CTU-IoT-Malware-Capture-9-1/'\n",
    "CURR_FILE = CURR_FOLDER + \"2018-07-25-10-53-16-192.168.100.111.pcap\""
   ]
  },
  {
   "cell_type": "code",
   "execution_count": null,
   "id": "1f4bf09d-8fbf-4973-8853-eac164f59082",
   "metadata": {
    "tags": []
   },
   "outputs": [],
   "source": [
    "# Create a Pandas dataframe from a Zeek log\n",
    "log_to_df = LogToDataFrame()\n",
    "bro_df = log_to_df.create_dataframe(CURR_FOLDER + 'bro/conn.log.labeled',\n",
    "                                    usecols = ['id.orig_h',\n",
    "                                               'id.orig_p',\n",
    "                                               'id.resp_h',\n",
    "                                               'id.resp_p',\n",
    "                                               'orig_pkts',\n",
    "                                               'resp_pkts',\n",
    "                                               'tunnel_parents   label   detailed-label'])\n",
    "\n",
    "# Print out the head of the dataframe\n",
    "bro_df.head()"
   ]
  },
  {
   "cell_type": "code",
   "execution_count": null,
   "id": "16238755-2b68-484a-9d1f-c1293198a627",
   "metadata": {
    "tags": []
   },
   "outputs": [],
   "source": [
    "bro_df['tunnel_parents   label   detailed-label'].unique()"
   ]
  },
  {
   "cell_type": "code",
   "execution_count": null,
   "id": "e6bafd57-b64a-487a-ae0e-9c2497f0fa47",
   "metadata": {
    "tags": []
   },
   "outputs": [],
   "source": [
    "bro_df.groupby('tunnel_parents   label   detailed-label').count()"
   ]
  },
  {
   "cell_type": "code",
   "execution_count": null,
   "id": "3b7abbc8-c31e-49f6-a38f-a22b37646311",
   "metadata": {
    "tags": []
   },
   "outputs": [],
   "source": [
    "filtered_df = bro_df[bro_df['tunnel_parents   label   detailed-label']=='(empty)   Malicious   PartOfAHorizontalPortScan'].copy()"
   ]
  },
  {
   "cell_type": "code",
   "execution_count": null,
   "id": "907d10dc-1974-42bd-bf75-3ba2139feaff",
   "metadata": {
    "tags": []
   },
   "outputs": [],
   "source": [
    "filtered_df"
   ]
  },
  {
   "cell_type": "code",
   "execution_count": null,
   "id": "30050466-0ae1-4462-b51f-5b9f0454edd3",
   "metadata": {
    "tags": []
   },
   "outputs": [],
   "source": [
    "def filter_packets(input_pcap_file, output_pcap_file):\n",
    "    filtered_packets = []\n",
    "\n",
    "    # Define filtering criteria\n",
    "    source_ip = '192.168.100.111'\n",
    "    source_ip = ipaddress.IPv4Address(source_ip).packed\n",
    "    source_port = None\n",
    "    dest_port = None\n",
    "    packets_to_filter = 50000\n",
    "    count = 0\n",
    "\n",
    "    with open(input_pcap_file, 'rb') as f:\n",
    "        pcap = dpkt.pcap.Reader(f)\n",
    "\n",
    "        for idx, (timestamp, buf) in tqdm(enumerate(pcap)):\n",
    "            eth = dpkt.ethernet.Ethernet(buf)\n",
    "            ip = eth.data\n",
    "            tcp = ip.data\n",
    "            # if idx > 0 and idx % 50000==0: print(idx)\n",
    "            # Filter packets based on the criteria\n",
    "            if isinstance(ip, dpkt.ip.IP) and ip.src == source_ip:\n",
    "                if hasattr(tcp, 'sport'):\n",
    "                    match = filtered_df[(filtered_df['id.orig_p'] == tcp.sport) & \\\n",
    "                                        (filtered_df['id.resp_p'] == tcp.dport) & \\\n",
    "                                        (filtered_df['id.resp_h'] == socket.inet_ntoa(ip.dst))]\n",
    "                    if len(match) > 0:\n",
    "\n",
    "                        filtered_packets.append((timestamp, buf))\n",
    "                        count += 1\n",
    "                        if count > 0 and count % 1000 == 0:\n",
    "                            print(count)\n",
    "                        if count >= packets_to_filter:\n",
    "                            break\n",
    "\n",
    "    # Write the filtered packets to another PCAP file\n",
    "    with open(output_pcap_file, 'wb') as f:\n",
    "        pcap_writer = dpkt.pcap.Writer(f)\n",
    "        for timestamp, buf in filtered_packets:\n",
    "            pcap_writer.writepkt(buf, timestamp)\n",
    "\n",
    "\n",
    "filter_packets(CURR_FILE, CURR_FOLDER+\"filtered.pcap\")"
   ]
  },
  {
   "cell_type": "markdown",
   "id": "16eaca1e-c5f6-4ac3-9038-ad4581298e1b",
   "metadata": {
    "tags": []
   },
   "source": [
    "# Hakai:"
   ]
  },
  {
   "cell_type": "code",
   "execution_count": null,
   "id": "c8b8caf6-aa0f-4ccd-bb58-40cba0959ac5",
   "metadata": {
    "tags": []
   },
   "outputs": [],
   "source": [
    "DATASET_ROOT = '/home/jovyan/nfs/jcevallos/datasets/iot23_full/'\n",
    "CURR_FOLDER = DATASET_ROOT + 'CTU-IoT-Malware-Capture-8-1/'\n",
    "CURR_FILE = CURR_FOLDER + \"2018-07-31-15-15-09-192.168.100.113.pcap\""
   ]
  },
  {
   "cell_type": "code",
   "execution_count": null,
   "id": "8705c34a-f5f7-4a5e-937a-2682d3e5fa10",
   "metadata": {
    "tags": []
   },
   "outputs": [],
   "source": [
    "# Create a Pandas dataframe from a Zeek log\n",
    "log_to_df = LogToDataFrame()\n",
    "bro_df = log_to_df.create_dataframe(CURR_FOLDER + 'bro/conn.log.labeled',\n",
    "                                    usecols = ['id.orig_h',\n",
    "                                               'id.orig_p',\n",
    "                                               'id.resp_h',\n",
    "                                               'id.resp_p',\n",
    "                                               'orig_pkts',\n",
    "                                               'resp_pkts',\n",
    "                                               'tunnel_parents   label   detailed-label'])\n",
    "\n",
    "# Print out the head of the dataframe\n",
    "bro_df.head()"
   ]
  },
  {
   "cell_type": "code",
   "execution_count": null,
   "id": "a92bc94c-594e-48a2-8948-4f7430a17dc8",
   "metadata": {
    "tags": []
   },
   "outputs": [],
   "source": [
    "bro_df['tunnel_parents   label   detailed-label'].unique()"
   ]
  },
  {
   "cell_type": "code",
   "execution_count": null,
   "id": "6b7c4952-e660-4006-98cc-ccac63cf6688",
   "metadata": {
    "tags": []
   },
   "outputs": [],
   "source": [
    "bro_df.groupby('tunnel_parents   label   detailed-label').count()"
   ]
  },
  {
   "cell_type": "code",
   "execution_count": null,
   "id": "912dd533-702f-4959-a1ab-9a34cd6478ea",
   "metadata": {
    "tags": []
   },
   "outputs": [],
   "source": [
    "filtered_df = bro_df[bro_df['tunnel_parents   label   detailed-label']=='(empty)   Malicious   C&C'].copy()"
   ]
  },
  {
   "cell_type": "code",
   "execution_count": null,
   "id": "d863915d-6b27-4876-827a-9e71af2d0dd6",
   "metadata": {
    "tags": []
   },
   "outputs": [],
   "source": [
    "filtered_df"
   ]
  },
  {
   "cell_type": "code",
   "execution_count": null,
   "id": "537d2e2a-2ad4-48cf-811d-bc0f9a2185df",
   "metadata": {
    "tags": []
   },
   "outputs": [],
   "source": [
    "def filter_packets(input_pcap_file, output_pcap_file):\n",
    "    filtered_packets = []\n",
    "\n",
    "    # Define filtering criteria\n",
    "    source_ip = '192.168.100.113'\n",
    "    source_ip = ipaddress.IPv4Address(source_ip).packed\n",
    "    source_port = None\n",
    "    dest_port = None\n",
    "    packets_to_filter = 50000\n",
    "    count = 0\n",
    "\n",
    "    with open(input_pcap_file, 'rb') as f:\n",
    "        pcap = dpkt.pcap.Reader(f)\n",
    "\n",
    "        for idx, (timestamp, buf) in tqdm(enumerate(pcap)):\n",
    "            eth = dpkt.ethernet.Ethernet(buf)\n",
    "            ip = eth.data\n",
    "            tcp = ip.data\n",
    "            # if idx > 0 and idx % 50000==0: print(idx)\n",
    "            # Filter packets based on the criteria\n",
    "            if isinstance(ip, dpkt.ip.IP) and ip.src == source_ip:\n",
    "                if hasattr(tcp, 'sport'):\n",
    "                    match = filtered_df[(filtered_df['id.orig_p'] == tcp.sport) & \\\n",
    "                                        (filtered_df['id.resp_p'] == tcp.dport) & \\\n",
    "                                        (filtered_df['id.resp_h'] == socket.inet_ntoa(ip.dst))]\n",
    "                    if len(match) > 0:\n",
    "\n",
    "                        filtered_packets.append((timestamp, buf))\n",
    "                        count += 1\n",
    "                        if count > 0 and count % 1000 == 0:\n",
    "                            print(count)\n",
    "                        if count >= packets_to_filter:\n",
    "                            break\n",
    "\n",
    "    # Write the filtered packets to another PCAP file\n",
    "    with open(output_pcap_file, 'wb') as f:\n",
    "        pcap_writer = dpkt.pcap.Writer(f)\n",
    "        for timestamp, buf in filtered_packets:\n",
    "            pcap_writer.writepkt(buf, timestamp)\n",
    "\n",
    "\n",
    "filter_packets(CURR_FILE, CURR_FOLDER+\"filtered.pcap\")"
   ]
  },
  {
   "cell_type": "markdown",
   "id": "ae844e4f-3696-4b16-bea7-b506280f9239",
   "metadata": {},
   "source": [
    "# Gafgyt:"
   ]
  },
  {
   "cell_type": "code",
   "execution_count": null,
   "id": "550efaa5-72b1-4f44-b846-114997c5c723",
   "metadata": {
    "tags": []
   },
   "outputs": [],
   "source": [
    "DATASET_ROOT = '/home/jovyan/nfs/jcevallos/datasets/iot23_full/'\n",
    "CURR_FOLDER = DATASET_ROOT + 'CTU-IoT-Malware-Capture-60-1/'\n",
    "CURR_FILE = CURR_FOLDER + \"2019-09-20-02-40-32-192.168.1.195.pcap\""
   ]
  },
  {
   "cell_type": "code",
   "execution_count": null,
   "id": "0bd37d6e-aae2-484e-b997-a68b49b2b2fc",
   "metadata": {
    "tags": []
   },
   "outputs": [],
   "source": [
    "# Create a Pandas dataframe from a Zeek log\n",
    "log_to_df = LogToDataFrame()\n",
    "bro_df = log_to_df.create_dataframe(CURR_FOLDER + 'bro/conn.log.labeled',\n",
    "                                    usecols = ['id.orig_h',\n",
    "                                               'id.orig_p',\n",
    "                                               'id.resp_h',\n",
    "                                               'id.resp_p',\n",
    "                                               'tunnel_parents   label   detailed-label'])\n",
    "\n",
    "# Print out the head of the dataframe\n",
    "bro_df.head()"
   ]
  },
  {
   "cell_type": "code",
   "execution_count": null,
   "id": "fea10267-cf20-4958-920f-42c7e73a09ae",
   "metadata": {
    "tags": []
   },
   "outputs": [],
   "source": [
    "bro_df['tunnel_parents   label   detailed-label'].unique()"
   ]
  },
  {
   "cell_type": "code",
   "execution_count": null,
   "id": "383120e0-873d-419c-bb01-d82970a48cfb",
   "metadata": {
    "tags": []
   },
   "outputs": [],
   "source": [
    "bro_df.groupby('tunnel_parents   label   detailed-label').count()"
   ]
  },
  {
   "cell_type": "code",
   "execution_count": null,
   "id": "8c1f3afa-aa1e-440f-a0d7-f22c0ee82431",
   "metadata": {
    "tags": []
   },
   "outputs": [],
   "source": [
    "filtered_df = bro_df[bro_df['tunnel_parents   label   detailed-label']=='-   Malicious   DDoS'].copy()"
   ]
  },
  {
   "cell_type": "code",
   "execution_count": null,
   "id": "902695ca-8001-4379-a798-809cbeeec7de",
   "metadata": {
    "tags": []
   },
   "outputs": [],
   "source": [
    "filtered_df"
   ]
  },
  {
   "cell_type": "code",
   "execution_count": null,
   "id": "339ea64c-b5e4-4bf2-8e54-0aa445bdc8c5",
   "metadata": {
    "tags": []
   },
   "outputs": [],
   "source": [
    "def filter_packets(input_pcap_file, output_pcap_file):\n",
    "    filtered_packets = []\n",
    "\n",
    "    # Define filtering criteria\n",
    "    source_ip = '192.168.1.195'\n",
    "    source_ip = ipaddress.IPv4Address(source_ip).packed\n",
    "    source_port = None\n",
    "    dest_port = None\n",
    "    packets_to_filter = 50000\n",
    "    count = 0\n",
    "\n",
    "    with open(input_pcap_file, 'rb') as f:\n",
    "        pcap = dpkt.pcap.Reader(f)\n",
    "\n",
    "        for idx, (timestamp, buf) in tqdm(enumerate(pcap)):\n",
    "            eth = dpkt.ethernet.Ethernet(buf)\n",
    "            ip = eth.data\n",
    "            tcp = ip.data\n",
    "            # if idx > 0 and idx % 50000==0: print(idx)\n",
    "            # Filter packets based on the criteria\n",
    "            if isinstance(ip, dpkt.ip.IP) and ip.src == source_ip:\n",
    "                if hasattr(tcp, 'sport'):\n",
    "                    match = filtered_df[(filtered_df['id.orig_p'] == tcp.sport) & \\\n",
    "                                        (filtered_df['id.resp_p'] == tcp.dport) & \\\n",
    "                                        (filtered_df['id.resp_h'] == socket.inet_ntoa(ip.dst))]\n",
    "                    if len(match) > 0:\n",
    "\n",
    "                        filtered_packets.append((timestamp, buf))\n",
    "                        count += 1\n",
    "                        if count > 0 and count % 1000 == 0:\n",
    "                            print(count)\n",
    "                        if count >= packets_to_filter:\n",
    "                            break\n",
    "\n",
    "    # Write the filtered packets to another PCAP file\n",
    "    with open(output_pcap_file, 'wb') as f:\n",
    "        pcap_writer = dpkt.pcap.Writer(f)\n",
    "        for timestamp, buf in filtered_packets:\n",
    "            pcap_writer.writepkt(buf, timestamp)\n",
    "\n",
    "\n",
    "filter_packets(CURR_FILE, CURR_FOLDER+\"filtered.pcap\")"
   ]
  },
  {
   "cell_type": "markdown",
   "id": "87af2a6a-4be3-4f0f-8a6b-d81b54fd2602",
   "metadata": {},
   "source": [
    "# Mirai:"
   ]
  },
  {
   "cell_type": "code",
   "execution_count": null,
   "id": "6a12c913-499c-4413-9d0a-b8d923f72a39",
   "metadata": {
    "tags": []
   },
   "outputs": [],
   "source": [
    "DATASET_ROOT = '/home/jovyan/nfs/jcevallos/datasets/iot23_full/'\n",
    "CURR_FOLDER = DATASET_ROOT + 'CTU-IoT-Malware-Capture-34-1/'\n",
    "CURR_FILE = CURR_FOLDER + \"2018-12-21-15-50-14-192.168.1.195.pcap\""
   ]
  },
  {
   "cell_type": "code",
   "execution_count": null,
   "id": "abde1ec5-9f02-48be-8e15-1fadbe657139",
   "metadata": {
    "tags": []
   },
   "outputs": [],
   "source": [
    "# Create a Pandas dataframe from a Zeek log\n",
    "log_to_df = LogToDataFrame()\n",
    "bro_df = log_to_df.create_dataframe(CURR_FOLDER + 'bro/conn.log.labeled',\n",
    "                                    usecols = ['id.orig_h',\n",
    "                                               'id.orig_p',\n",
    "                                               'id.resp_h',\n",
    "                                               'id.resp_p',\n",
    "                                               'tunnel_parents   label   detailed-label'])\n",
    "\n",
    "# Print out the head of the dataframe\n",
    "bro_df.head()"
   ]
  },
  {
   "cell_type": "code",
   "execution_count": null,
   "id": "d51df521-c5f6-4e66-b7f4-3c2192f882c5",
   "metadata": {
    "tags": []
   },
   "outputs": [],
   "source": [
    "bro_df['tunnel_parents   label   detailed-label'].unique()"
   ]
  },
  {
   "cell_type": "code",
   "execution_count": null,
   "id": "2eb34dfa-903c-472c-b92e-e438844a30d7",
   "metadata": {
    "tags": []
   },
   "outputs": [],
   "source": [
    "bro_df.groupby('tunnel_parents   label   detailed-label').count()"
   ]
  },
  {
   "cell_type": "code",
   "execution_count": null,
   "id": "8ea80d1f-0044-4459-b516-bc622abd56ef",
   "metadata": {
    "tags": []
   },
   "outputs": [],
   "source": [
    "filtered_df = bro_df[bro_df['tunnel_parents   label   detailed-label']=='-   Malicious   C&C'].copy()"
   ]
  },
  {
   "cell_type": "code",
   "execution_count": null,
   "id": "373a6f8a-dbd4-4afa-b172-c648d7d9acf9",
   "metadata": {
    "tags": []
   },
   "outputs": [],
   "source": [
    "filtered_df"
   ]
  },
  {
   "cell_type": "code",
   "execution_count": null,
   "id": "d387cf62-226b-49c2-9af6-a8d02a42b21c",
   "metadata": {
    "tags": []
   },
   "outputs": [],
   "source": [
    "def filter_packets(input_pcap_file, output_pcap_file):\n",
    "    filtered_packets = []\n",
    "\n",
    "    # Define filtering criteria\n",
    "    source_ip = '192.168.1.195'\n",
    "    source_ip = ipaddress.IPv4Address(source_ip).packed\n",
    "    source_port = None\n",
    "    dest_port = None\n",
    "    packets_to_filter = 50000\n",
    "    count = 0\n",
    "\n",
    "    with open(input_pcap_file, 'rb') as f:\n",
    "        pcap = dpkt.pcap.Reader(f)\n",
    "\n",
    "        for idx, (timestamp, buf) in tqdm(enumerate(pcap)):\n",
    "            eth = dpkt.ethernet.Ethernet(buf)\n",
    "            ip = eth.data\n",
    "            tcp = ip.data\n",
    "            # if idx > 0 and idx % 50000==0: print(idx)\n",
    "            # Filter packets based on the criteria\n",
    "            if isinstance(ip, dpkt.ip.IP) and ip.src == source_ip:\n",
    "                if hasattr(tcp, 'sport'):\n",
    "                    match = filtered_df[(filtered_df['id.orig_p'] == tcp.sport) & \\\n",
    "                                        (filtered_df['id.resp_p'] == tcp.dport) & \\\n",
    "                                        (filtered_df['id.resp_h'] == socket.inet_ntoa(ip.dst))]\n",
    "                    if len(match) > 0:\n",
    "\n",
    "                        filtered_packets.append((timestamp, buf))\n",
    "                        count += 1\n",
    "                        if count > 0 and count % 1000 == 0:\n",
    "                            print(count)\n",
    "                        if count >= packets_to_filter:\n",
    "                            break\n",
    "\n",
    "    # Write the filtered packets to another PCAP file\n",
    "    with open(output_pcap_file, 'wb') as f:\n",
    "        pcap_writer = dpkt.pcap.Writer(f)\n",
    "        for timestamp, buf in filtered_packets:\n",
    "            pcap_writer.writepkt(buf, timestamp)\n",
    "\n",
    "\n",
    "filter_packets(CURR_FILE, CURR_FOLDER+\"filtered.pcap\")"
   ]
  },
  {
   "cell_type": "markdown",
   "id": "96ec8c0a-19ff-459d-9e61-430542a91d39",
   "metadata": {},
   "source": [
    "# Torii"
   ]
  },
  {
   "cell_type": "code",
   "execution_count": null,
   "id": "3dc169de-4ebb-427c-8fcf-38b69c9cb5b8",
   "metadata": {
    "tags": []
   },
   "outputs": [],
   "source": [
    "DATASET_ROOT = '/home/jovyan/nfs/jcevallos/datasets/iot23_full/'\n",
    "CURR_FOLDER = DATASET_ROOT + 'CTU-IoT-Malware-Capture-20-1/'\n",
    "CURR_FILE = CURR_FOLDER + \"2018-10-02-13-12-30-192.168.100.103.pcap\""
   ]
  },
  {
   "cell_type": "code",
   "execution_count": null,
   "id": "3ddde6ae-83a2-448c-b3d8-74405d4b98ed",
   "metadata": {
    "tags": []
   },
   "outputs": [],
   "source": [
    "# Create a Pandas dataframe from a Zeek log\n",
    "log_to_df = LogToDataFrame()\n",
    "bro_df = log_to_df.create_dataframe(CURR_FOLDER + 'bro/conn.log.labeled',\n",
    "                                    usecols = ['id.orig_h',\n",
    "                                               'id.orig_p',\n",
    "                                               'id.resp_h',\n",
    "                                               'id.resp_p',\n",
    "                                               'orig_pkts',\n",
    "                                               'resp_pkts',\n",
    "                                               'tunnel_parents   label   detailed-label'])\n",
    "\n",
    "# Print out the head of the dataframe\n",
    "bro_df.head()"
   ]
  },
  {
   "cell_type": "code",
   "execution_count": null,
   "id": "9abf3ce2-de8d-4d09-b8d6-8621dfb345ec",
   "metadata": {
    "tags": []
   },
   "outputs": [],
   "source": [
    "bro_df.groupby('tunnel_parents   label   detailed-label').count()"
   ]
  },
  {
   "cell_type": "code",
   "execution_count": null,
   "id": "bed0035d-9552-4292-b510-feefa574a2eb",
   "metadata": {
    "tags": []
   },
   "outputs": [],
   "source": [
    "bro_df['tunnel_parents   label   detailed-label'].unique()"
   ]
  },
  {
   "cell_type": "code",
   "execution_count": null,
   "id": "c33ba723-7c45-4519-ae1a-9978ddfd17f2",
   "metadata": {
    "tags": []
   },
   "outputs": [],
   "source": [
    "filtered_df = bro_df[bro_df['tunnel_parents   label   detailed-label']=='-   Malicious   C&C-Torii'].copy()"
   ]
  },
  {
   "cell_type": "code",
   "execution_count": null,
   "id": "c58809d8-3b2e-4611-a5a3-01a999dc8f59",
   "metadata": {
    "tags": []
   },
   "outputs": [],
   "source": [
    "def filter_packets(input_pcap_file, output_pcap_file):\n",
    "    filtered_packets = []\n",
    "\n",
    "    # Define filtering criteria\n",
    "    source_ip = '192.168.100.103'\n",
    "    source_ip = ipaddress.IPv4Address(source_ip).packed\n",
    "    source_port = None\n",
    "    dest_port = None\n",
    "    packets_to_filter = 50000\n",
    "    count = 0\n",
    "\n",
    "    with open(input_pcap_file, 'rb') as f:\n",
    "        pcap = dpkt.pcap.Reader(f)\n",
    "\n",
    "        for idx, (timestamp, buf) in tqdm(enumerate(pcap)):\n",
    "            eth = dpkt.ethernet.Ethernet(buf)\n",
    "            ip = eth.data\n",
    "            tcp = ip.data\n",
    "            # if idx > 0 and idx % 50000==0: print(idx)\n",
    "            # Filter packets based on the criteria\n",
    "            if isinstance(ip, dpkt.ip.IP) and ip.src == source_ip:\n",
    "                if hasattr(tcp, 'sport'):\n",
    "                    match = filtered_df[(filtered_df['id.orig_p'] == tcp.sport) & \\\n",
    "                                        (filtered_df['id.resp_p'] == tcp.dport) & \\\n",
    "                                        (filtered_df['id.resp_h'] == socket.inet_ntoa(ip.dst))]\n",
    "                    if len(match) > 0:\n",
    "\n",
    "                        filtered_packets.append((timestamp, buf))\n",
    "                        count += 1\n",
    "                        if count > 0 and count % 1000 == 0:\n",
    "                            print(count)\n",
    "                        if count >= packets_to_filter:\n",
    "                            break\n",
    "\n",
    "    # Write the filtered packets to another PCAP file\n",
    "    with open(output_pcap_file, 'wb') as f:\n",
    "        pcap_writer = dpkt.pcap.Writer(f)\n",
    "        for timestamp, buf in filtered_packets:\n",
    "            pcap_writer.writepkt(buf, timestamp)\n",
    "\n",
    "\n",
    "filter_packets(CURR_FILE, CURR_FOLDER+\"filtered.pcap\")"
   ]
  },
  {
   "cell_type": "markdown",
   "id": "073ef848-f027-4f37-98a9-0c1a72bb6396",
   "metadata": {
    "tags": []
   },
   "source": [
    "# Muhstik"
   ]
  },
  {
   "cell_type": "code",
   "execution_count": null,
   "id": "50d1246a-51fa-4c3a-86fa-da0f5d346170",
   "metadata": {
    "tags": []
   },
   "outputs": [],
   "source": [
    "DATASET_ROOT = '/home/jovyan/nfs/jcevallos/datasets/iot23_full/'\n",
    "CURR_FOLDER = DATASET_ROOT + 'CTU-IoT-Malware-Capture-3-1/'\n",
    "CURR_FILE = CURR_FOLDER + \"2018-05-21_capture.pcap\""
   ]
  },
  {
   "cell_type": "code",
   "execution_count": null,
   "id": "38265430-ce34-4d8b-8823-4129e85fd758",
   "metadata": {
    "tags": []
   },
   "outputs": [],
   "source": [
    "# Create a Pandas dataframe from a Zeek log\n",
    "log_to_df = LogToDataFrame()\n",
    "bro_df = log_to_df.create_dataframe(CURR_FOLDER + 'bro/conn.log.labeled',\n",
    "                                    usecols = ['id.orig_h',\n",
    "                                               'id.orig_p',\n",
    "                                               'id.resp_h',\n",
    "                                               'id.resp_p',\n",
    "                                               'orig_pkts',\n",
    "                                               'resp_pkts',\n",
    "                                               'tunnel_parents   label   detailed-label'])\n",
    "\n",
    "# Print out the head of the dataframe\n",
    "bro_df.head()"
   ]
  },
  {
   "cell_type": "code",
   "execution_count": null,
   "id": "b2cccd2b-53dc-45d8-9892-a672f0565a0e",
   "metadata": {
    "tags": []
   },
   "outputs": [],
   "source": [
    "bro_df['tunnel_parents   label   detailed-label'].unique()"
   ]
  },
  {
   "cell_type": "code",
   "execution_count": null,
   "id": "4888ac77-4bf8-4ac9-ba35-148fbb4da9b7",
   "metadata": {
    "tags": []
   },
   "outputs": [],
   "source": [
    "filtered_df = bro_df[bro_df['id.orig_h']=='192.168.2.5']"
   ]
  },
  {
   "cell_type": "code",
   "execution_count": null,
   "id": "1c30da6a-eaa6-4644-93ac-9ede6cbb7b80",
   "metadata": {
    "tags": []
   },
   "outputs": [],
   "source": [
    "filtered_df.groupby('tunnel_parents   label   detailed-label').count()"
   ]
  },
  {
   "cell_type": "code",
   "execution_count": null,
   "id": "5941e8dc-5e7a-4137-94e6-ecf79240174c",
   "metadata": {
    "tags": []
   },
   "outputs": [],
   "source": [
    "filtered_df = filtered_df[filtered_df['tunnel_parents   label   detailed-label']!='(empty)   Benign   -'].copy()"
   ]
  },
  {
   "cell_type": "code",
   "execution_count": null,
   "id": "c8999a44-9a96-4fac-b080-34dfd0ce13d1",
   "metadata": {
    "tags": []
   },
   "outputs": [],
   "source": [
    "filtered_df = filtered_df[filtered_df['tunnel_parents   label   detailed-label']!='(empty)   Malicious   C&C'].copy()"
   ]
  },
  {
   "cell_type": "code",
   "execution_count": null,
   "id": "0781b55a-0dc9-4ac8-881e-f839c72eae97",
   "metadata": {
    "tags": []
   },
   "outputs": [],
   "source": [
    "filtered_df = filtered_df[filtered_df['tunnel_parents   label   detailed-label']=='(empty)   Malicious   Attack'].copy()"
   ]
  },
  {
   "cell_type": "code",
   "execution_count": null,
   "id": "0653ae5f-8cae-47f9-a68b-aff9f294e10b",
   "metadata": {
    "tags": []
   },
   "outputs": [],
   "source": [
    "filtered_df.groupby('tunnel_parents   label   detailed-label').count()"
   ]
  },
  {
   "cell_type": "code",
   "execution_count": null,
   "id": "df77a6b8-2a86-49dd-8751-15621aab4c7e",
   "metadata": {
    "tags": []
   },
   "outputs": [],
   "source": [
    "def filter_packets(input_pcap_file, output_pcap_file):\n",
    "    filtered_packets = []\n",
    "\n",
    "    # Define filtering criteria\n",
    "    source_ip = '192.168.2.5'\n",
    "    source_ip = ipaddress.IPv4Address(source_ip).packed\n",
    "    source_port = None\n",
    "    dest_port = None\n",
    "    packets_to_filter = 50000\n",
    "    count = 0\n",
    "\n",
    "    with open(input_pcap_file, 'rb') as f:\n",
    "        pcap = dpkt.pcap.Reader(f)\n",
    "\n",
    "        for idx, (timestamp, buf) in tqdm(enumerate(pcap)):\n",
    "            eth = dpkt.ethernet.Ethernet(buf)\n",
    "            ip = eth.data\n",
    "            tcp = ip.data\n",
    "            # if idx > 0 and idx % 50000==0: print(idx)\n",
    "            # Filter packets based on the criteria\n",
    "            if isinstance(ip, dpkt.ip.IP) and ip.src == source_ip:\n",
    "                if hasattr(tcp, 'sport'):\n",
    "                    match = filtered_df[(filtered_df['id.orig_p'] == tcp.sport) & \\\n",
    "                                        (filtered_df['id.resp_p'] == tcp.dport) & \\\n",
    "                                        (filtered_df['id.resp_h'] == socket.inet_ntoa(ip.dst))]\n",
    "                    if len(match) > 0:\n",
    "\n",
    "                        filtered_packets.append((timestamp, buf))\n",
    "                        count += 1\n",
    "                        if count > 0 and count % 1000 == 0:\n",
    "                            print(count)\n",
    "                        if count >= packets_to_filter:\n",
    "                            break\n",
    "\n",
    "    # Write the filtered packets to another PCAP file\n",
    "    with open(output_pcap_file, 'wb') as f:\n",
    "        pcap_writer = dpkt.pcap.Writer(f)\n",
    "        for timestamp, buf in filtered_packets:\n",
    "            pcap_writer.writepkt(buf, timestamp)\n",
    "\n",
    "\n",
    "filter_packets(CURR_FILE, CURR_FOLDER+\"filtered.pcap\")"
   ]
  },
  {
   "cell_type": "markdown",
   "id": "ae473b6a-9a18-4fb6-8422-a3903338e090",
   "metadata": {
    "jp-MarkdownHeadingCollapsed": true,
    "tags": []
   },
   "source": [
    "# OKIRU attack:"
   ]
  },
  {
   "cell_type": "markdown",
   "id": "b0e37efe-cbd0-40c5-9cda-2dcfed48423f",
   "metadata": {
    "tags": []
   },
   "source": [
    "## Metadata:"
   ]
  },
  {
   "cell_type": "code",
   "execution_count": null,
   "id": "d39c16dd-f6e8-4aee-a207-99fe9b0beddf",
   "metadata": {
    "tags": []
   },
   "outputs": [],
   "source": [
    "DATASET_ROOT = '/home/jovyan/nfs/jcevallos/datasets/iot23_full/'\n",
    "CURR_FOLDER = DATASET_ROOT + 'CTU-IoT-Malware-Capture-7-1/'\n",
    "CURR_FILE = CURR_FOLDER + \"2018-07-20-17-31-20-192.168.100.108.pcap\""
   ]
  },
  {
   "cell_type": "markdown",
   "id": "ffc76cb9-5a9f-452e-9eed-7ffe355ac422",
   "metadata": {
    "tags": []
   },
   "source": [
    "## ZAT:"
   ]
  },
  {
   "cell_type": "code",
   "execution_count": null,
   "id": "ff8310da-8b1f-4c79-b1c5-51608ce357d4",
   "metadata": {
    "tags": []
   },
   "outputs": [],
   "source": [
    "# Create a Pandas dataframe from a Zeek log\n",
    "log_to_df = LogToDataFrame()\n",
    "bro_df = log_to_df.create_dataframe(CURR_FOLDER + 'bro/conn.log.labeled',\n",
    "                                    usecols = ['id.orig_h',\n",
    "                                               'id.orig_p',\n",
    "                                               'id.resp_h',\n",
    "                                               'id.resp_p',\n",
    "                                               'orig_pkts',\n",
    "                                               'resp_pkts',\n",
    "                                               'tunnel_parents   label   detailed-label'])\n",
    "\n",
    "# Print out the head of the dataframe\n",
    "bro_df.head()"
   ]
  },
  {
   "cell_type": "code",
   "execution_count": null,
   "id": "c5d26f84-dc57-4be2-9606-e41b6d064f5e",
   "metadata": {
    "tags": []
   },
   "outputs": [],
   "source": [
    "bro_df['tunnel_parents   label   detailed-label'].unique()"
   ]
  },
  {
   "cell_type": "code",
   "execution_count": null,
   "id": "bb8b4108-8d60-40b2-9afa-4cb943c75813",
   "metadata": {},
   "outputs": [],
   "source": [
    "filtered_df"
   ]
  },
  {
   "cell_type": "code",
   "execution_count": null,
   "id": "6ed7bded-b648-47cb-83d5-768d761b0c9f",
   "metadata": {
    "tags": []
   },
   "outputs": [],
   "source": [
    "def filter_packets(input_pcap_file, output_pcap_file):\n",
    "    filtered_packets = []\n",
    "\n",
    "    # Define filtering criteria\n",
    "    source_ip = '192.168.100.108'\n",
    "    source_ip = ipaddress.IPv4Address(source_ip).packed\n",
    "    source_port = 5526\n",
    "    dest_port = 37215\n",
    "    packets_to_filter = 500000\n",
    "    count = 0\n",
    "\n",
    "    with open(input_pcap_file, 'rb') as f:\n",
    "        pcap = dpkt.pcap.Reader(f)\n",
    "\n",
    "        for idx, (timestamp, buf) in enumerate(pcap):\n",
    "            eth = dpkt.ethernet.Ethernet(buf)\n",
    "            ip = eth.data\n",
    "            tcp = ip.data\n",
    "            # if idx > 0 and idx % 50000==0: print(idx)\n",
    "            # Filter packets based on the criteria\n",
    "            if isinstance(ip, dpkt.ip.IP) and ip.src == source_ip \\\n",
    "                    and isinstance(tcp, dpkt.tcp.TCP) \\\n",
    "                    and tcp.sport == source_port \\\n",
    "                    and tcp.dport == dest_port:\n",
    "\n",
    "                filtered_packets.append((timestamp, buf))\n",
    "                count += 1\n",
    "                if count > 0 and count % 50000 == 0:\n",
    "                    print(count)\n",
    "                if count >= packets_to_filter:\n",
    "                    break\n",
    "\n",
    "    # Write the filtered packets to another PCAP file\n",
    "    with open(output_pcap_file, 'wb') as f:\n",
    "        pcap_writer = dpkt.pcap.Writer(f)\n",
    "        for timestamp, buf in filtered_packets:\n",
    "            pcap_writer.writepkt(buf, timestamp)\n",
    "\n",
    "\n",
    "\n",
    "filter_packets(CURR_FILE, CURR_FOLDER+\"filtered.pcap\")\n"
   ]
  },
  {
   "cell_type": "markdown",
   "id": "ce355b93-6734-4732-b661-eb4f5293a217",
   "metadata": {
    "tags": []
   },
   "source": [
    "# HScan:"
   ]
  },
  {
   "cell_type": "code",
   "execution_count": null,
   "id": "f00b71b4-52da-4891-b6e3-60191357b163",
   "metadata": {
    "tags": []
   },
   "outputs": [],
   "source": [
    "DATASET_ROOT = '/home/jovyan/nfs/jcevallos/datasets/iot23_full/'\n",
    "CURR_FOLDER = DATASET_ROOT + 'CTU-IoT-Malware-Capture-1-1/'\n",
    "CURR_FILE = CURR_FOLDER + \"2018-05-09-192.168.100.103.pcap\""
   ]
  },
  {
   "cell_type": "code",
   "execution_count": null,
   "id": "2abe363d-906f-4673-a5b1-4f8e6acaa613",
   "metadata": {
    "tags": []
   },
   "outputs": [],
   "source": [
    "# Create a Pandas dataframe from a Zeek log\n",
    "log_to_df = LogToDataFrame()\n",
    "bro_df = log_to_df.create_dataframe(CURR_FOLDER + 'bro/conn.log.labeled',\n",
    "                                    usecols = ['id.orig_h',\n",
    "                                               'id.orig_p',\n",
    "                                               'id.resp_h',\n",
    "                                               'id.resp_p',\n",
    "                                               'orig_pkts',\n",
    "                                               'resp_pkts',\n",
    "                                               'tunnel_parents   label   detailed-label'])\n",
    "\n",
    "# Print out the head of the dataframe\n",
    "bro_df.head()"
   ]
  },
  {
   "cell_type": "code",
   "execution_count": null,
   "id": "791dfa4e-7454-4775-9b4d-860482974c7e",
   "metadata": {
    "tags": []
   },
   "outputs": [],
   "source": [
    "bro_df['tunnel_parents   label   detailed-label'].unique()"
   ]
  },
  {
   "cell_type": "code",
   "execution_count": null,
   "id": "7d79e4d0-f7ad-4210-8011-c6bd8e75cadc",
   "metadata": {
    "tags": []
   },
   "outputs": [],
   "source": [
    "filtered_df = bro_df[bro_df['tunnel_parents   label   detailed-label']=='(empty)   Malicious   PartOfAHorizontalPortScan']"
   ]
  },
  {
   "cell_type": "code",
   "execution_count": null,
   "id": "14ce0bc0-80c1-4054-9090-e44d51d7a87f",
   "metadata": {
    "tags": []
   },
   "outputs": [],
   "source": [
    "filtered_df = filtered_df[filtered_df['id.orig_h'] == '192.168.100.103']"
   ]
  },
  {
   "cell_type": "code",
   "execution_count": null,
   "id": "2cc5dbc5-ec7e-4b8b-a298-e37fb90063f3",
   "metadata": {
    "tags": []
   },
   "outputs": [],
   "source": [
    "input_pcap_file = CURR_FILE\n",
    "output_pcap_file = CURR_FOLDER+\"filtered.pcap\"\n",
    "\n",
    "filtered_packets = []\n",
    "\n",
    "# Define filtering criteria\n",
    "source_ip = '192.168.100.103'\n",
    "source_ip = ipaddress.IPv4Address(source_ip).packed\n",
    "\n",
    "packets_to_filter = 50000\n",
    "count = 0\n",
    "\n",
    "with open(input_pcap_file, 'rb') as f:\n",
    "    pcap = dpkt.pcap.Reader(f)\n",
    "\n",
    "    for idx, (timestamp, buf) in enumerate(pcap):\n",
    "        eth = dpkt.ethernet.Ethernet(buf)\n",
    "        ip = eth.data\n",
    "        udp = ip.data\n",
    "        # Filter packets based on the criteria\n",
    "        if isinstance(ip, dpkt.ip.IP) and ip.src == source_ip:\n",
    "            match = filtered_df[(filtered_df['id.orig_p'] == udp.sport) & \\\n",
    "                                (filtered_df['id.resp_p'] == udp.dport) & \\\n",
    "                                (filtered_df['id.resp_h'] == socket.inet_ntoa(ip.dst))]\n",
    "            if len(match) > 0:\n",
    "\n",
    "                filtered_packets.append((timestamp, buf))\n",
    "                count += 1\n",
    "                if count > 0 and count % 1000 == 0:\n",
    "                    print(count)\n",
    "                if count >= packets_to_filter:\n",
    "                    break\n",
    "\n",
    "# Write the filtered packets to another PCAP file\n",
    "with open(output_pcap_file, 'wb') as f:\n",
    "    pcap_writer = dpkt.pcap.Writer(f)\n",
    "    for timestamp, buf in filtered_packets:\n",
    "        pcap_writer.writepkt(buf, timestamp)\n",
    "\n",
    "\n",
    "\n"
   ]
  },
  {
   "cell_type": "markdown",
   "id": "86225d20-05dd-4325-a60d-d77d26a4158b",
   "metadata": {
    "jp-MarkdownHeadingCollapsed": true,
    "tags": []
   },
   "source": [
    "# CC HeartBeat"
   ]
  },
  {
   "cell_type": "code",
   "execution_count": null,
   "id": "5e88da3d-8620-489d-b4cf-5cdd54346f91",
   "metadata": {
    "tags": []
   },
   "outputs": [],
   "source": [
    "DATASET_ROOT = '/home/jovyan/nfs/jcevallos/datasets/iot23_full/'\n",
    "CURR_FOLDER = DATASET_ROOT + 'CTU-IoT-Malware-Capture-7-1/'\n",
    "CURR_FILE = CURR_FOLDER + \"2018-07-20-17-31-20-192.168.100.108.pcap\""
   ]
  },
  {
   "cell_type": "code",
   "execution_count": null,
   "id": "7407c412-c254-44d6-8a36-925a1db5435c",
   "metadata": {
    "tags": []
   },
   "outputs": [],
   "source": [
    "# Create a Pandas dataframe from a Zeek log\n",
    "log_to_df = LogToDataFrame()\n",
    "bro_df = log_to_df.create_dataframe(CURR_FOLDER + 'bro/conn.log.labeled',\n",
    "                                    usecols = ['id.orig_h',\n",
    "                                               'id.orig_p',\n",
    "                                               'id.resp_h',\n",
    "                                               'id.resp_p',\n",
    "                                               'orig_pkts',\n",
    "                                               'resp_pkts',\n",
    "                                               'tunnel_parents   label   detailed-label'])\n",
    "\n",
    "# Print out the head of the dataframe\n",
    "bro_df.head()"
   ]
  },
  {
   "cell_type": "code",
   "execution_count": null,
   "id": "3d6eec63-05d1-4192-bb9d-c7027ce1becd",
   "metadata": {
    "tags": []
   },
   "outputs": [],
   "source": [
    "bro_df['tunnel_parents   label   detailed-label'].unique()"
   ]
  },
  {
   "cell_type": "code",
   "execution_count": null,
   "id": "4e90e6bb-8a03-411e-93a3-9e58aa44b147",
   "metadata": {
    "tags": []
   },
   "outputs": [],
   "source": [
    "filtered_df = bro_df[bro_df['tunnel_parents   label   detailed-label']=='(empty)   Malicious   C&C-HeartBeat']"
   ]
  },
  {
   "cell_type": "code",
   "execution_count": null,
   "id": "b22e014d-f0eb-4d37-83e1-46fb84066874",
   "metadata": {
    "tags": []
   },
   "outputs": [],
   "source": [
    "filtered_df = filtered_df[filtered_df['id.orig_h'] == '192.168.100.108']"
   ]
  },
  {
   "cell_type": "code",
   "execution_count": null,
   "id": "81c36ab5-d411-45ae-8fe6-15f9f72ebafe",
   "metadata": {
    "tags": []
   },
   "outputs": [],
   "source": [
    "filtered_df"
   ]
  },
  {
   "cell_type": "code",
   "execution_count": null,
   "id": "bd94882e-4dfc-4218-92d1-8f0fd24275df",
   "metadata": {
    "tags": []
   },
   "outputs": [],
   "source": [
    "input_pcap_file = CURR_FILE\n",
    "output_pcap_file = CURR_FOLDER+\"cc_heartbeat.pcap\"\n",
    "\n",
    "filtered_packets = []\n",
    "\n",
    "# Define filtering criteria\n",
    "source_ip = '192.168.100.108'\n",
    "source_ip = ipaddress.IPv4Address(source_ip).packed\n",
    "\n",
    "packets_to_filter = 1500\n",
    "count = 0\n",
    "\n",
    "with open(input_pcap_file, 'rb') as f:\n",
    "    pcap = dpkt.pcap.Reader(f)\n",
    "\n",
    "    for idx, (timestamp, buf) in enumerate(pcap):\n",
    "        eth = dpkt.ethernet.Ethernet(buf)\n",
    "        ip = eth.data\n",
    "        udp = ip.data\n",
    "        # Filter packets based on the criteria\n",
    "        if isinstance(ip, dpkt.ip.IP) and isinstance(udp, dpkt.tcp.TCP) and ip.src == source_ip:\n",
    "            match = filtered_df[(filtered_df['id.orig_p'] == udp.sport) & \\\n",
    "                                (filtered_df['id.resp_p'] == udp.dport) & \\\n",
    "                                (filtered_df['id.resp_h'] == socket.inet_ntoa(ip.dst))]\n",
    "            if len(match) > 0:\n",
    "\n",
    "                filtered_packets.append((timestamp, buf))\n",
    "                count += 1\n",
    "                if count > 0 and count % 10 == 0:\n",
    "                    print(count)\n",
    "                if count >= packets_to_filter:\n",
    "                    break\n",
    "\n",
    "# Write the filtered packets to another PCAP file\n",
    "with open(output_pcap_file, 'wb') as f:\n",
    "    pcap_writer = dpkt.pcap.Writer(f)\n",
    "    for timestamp, buf in filtered_packets:\n",
    "        pcap_writer.writepkt(buf, timestamp)\n"
   ]
  },
  {
   "cell_type": "markdown",
   "id": "e2006e1f-f920-46d7-954f-7c00d2d7a875",
   "metadata": {
    "jp-MarkdownHeadingCollapsed": true,
    "tags": []
   },
   "source": [
    "# GEneric DOS"
   ]
  },
  {
   "cell_type": "code",
   "execution_count": null,
   "id": "0ac94b55-23be-4eed-9cd3-81ec876c11b4",
   "metadata": {
    "tags": []
   },
   "outputs": [],
   "source": [
    "DATASET_ROOT = '/home/jovyan/nfs/jcevallos/datasets/iot23_full/'\n",
    "CURR_FOLDER = DATASET_ROOT + 'CTU-IoT-Malware-Capture-7-1/'\n",
    "CURR_FILE = CURR_FOLDER + \"2018-07-20-17-31-20-192.168.100.108.pcap\""
   ]
  },
  {
   "cell_type": "code",
   "execution_count": null,
   "id": "442d2b29-c94d-4c63-a472-7ddd8e9228df",
   "metadata": {},
   "outputs": [],
   "source": [
    "# Create a Pandas dataframe from a Zeek log\n",
    "log_to_df = LogToDataFrame()\n",
    "bro_df = log_to_df.create_dataframe(CURR_FOLDER + 'bro/conn.log.labeled',\n",
    "                                    usecols = ['id.orig_h',\n",
    "                                               'id.orig_p',\n",
    "                                               'id.resp_h',\n",
    "                                               'id.resp_p',\n",
    "                                               'orig_pkts',\n",
    "                                               'resp_pkts',\n",
    "                                               'tunnel_parents   label   detailed-label'])\n",
    "\n",
    "# Print out the head of the dataframe\n",
    "bro_df.head()"
   ]
  },
  {
   "cell_type": "code",
   "execution_count": null,
   "id": "f88c8324-d62b-40b1-b6c8-294967aa3c3b",
   "metadata": {
    "tags": []
   },
   "outputs": [],
   "source": [
    "bro_df['tunnel_parents   label   detailed-label'].unique()"
   ]
  },
  {
   "cell_type": "code",
   "execution_count": null,
   "id": "fca9ab5c-0089-454b-bee5-9a47fbb758ac",
   "metadata": {
    "tags": []
   },
   "outputs": [],
   "source": [
    "filtered_df = bro_df[bro_df['tunnel_parents   label   detailed-label']=='(empty)   Malicious   DDoS']"
   ]
  },
  {
   "cell_type": "code",
   "execution_count": null,
   "id": "3e8f244d-8dbf-4733-9716-c917dde5c425",
   "metadata": {
    "tags": []
   },
   "outputs": [],
   "source": [
    "filtered_df = filtered_df[filtered_df['id.orig_h'] == '192.168.100.108']"
   ]
  },
  {
   "cell_type": "code",
   "execution_count": null,
   "id": "44d6beca-5d9c-4a75-b646-4a4551702db5",
   "metadata": {
    "tags": []
   },
   "outputs": [],
   "source": [
    "filtered_df"
   ]
  },
  {
   "cell_type": "code",
   "execution_count": null,
   "id": "d454f325-e99f-42ee-8243-1823dc7bbb27",
   "metadata": {
    "tags": []
   },
   "outputs": [],
   "source": [
    "input_pcap_file = CURR_FILE\n",
    "output_pcap_file = CURR_FOLDER+\"generic-ddos.pcap\"\n",
    "\n",
    "filtered_packets = []\n",
    "\n",
    "# Define filtering criteria\n",
    "source_ip = '192.168.100.108'\n",
    "source_ip = ipaddress.IPv4Address(source_ip).packed\n",
    "target_ip = '64.237.233.111'\n",
    "target_ip = ipaddress.IPv4Address(target_ip).packed\n",
    "\n",
    "packets_to_filter = 500000\n",
    "count = 0\n",
    "\n",
    "with open(input_pcap_file, 'rb') as f:\n",
    "    pcap = dpkt.pcap.Reader(f)\n",
    "\n",
    "    for idx, (timestamp, buf) in tqdm(enumerate(pcap)):\n",
    "        eth = dpkt.ethernet.Ethernet(buf)\n",
    "        ip = eth.data\n",
    "        udp = ip.data\n",
    "        # Filter packets based on the criteria\n",
    "        if isinstance(ip, dpkt.ip.IP) \\\n",
    "                and ip.dst == target_ip \\\n",
    "                and ip.src == source_ip \\\n",
    "                and isinstance(udp, dpkt.udp.UDP) \\\n",
    "                and udp.dport == 80:\n",
    "\n",
    "            match = filtered_df[filtered_df['id.orig_p'] == udp.sport]\n",
    "            if len(match) > 0:\n",
    "                filtered_packets.append((timestamp, buf))\n",
    "                count += 1\n",
    "                if count > 0 and count % 100 == 0:\n",
    "                    print(count)\n",
    "                if count >= packets_to_filter:\n",
    "                    break\n",
    "\n",
    "# Write the filtered packets to another PCAP file\n",
    "with open(output_pcap_file, 'wb') as f:\n",
    "    pcap_writer = dpkt.pcap.Writer(f)\n",
    "    for timestamp, buf in filtered_packets:\n",
    "        pcap_writer.writepkt(buf, timestamp)\n"
   ]
  },
  {
   "cell_type": "code",
   "execution_count": null,
   "id": "63081ba0-d220-478c-9601-b8bb942305b2",
   "metadata": {},
   "outputs": [],
   "source": [
    "and ip.dst == target_ip \\\n",
    "            and udp.dport == 80:"
   ]
  },
  {
   "cell_type": "markdown",
   "id": "80d10113-a1d8-41fb-9067-64ba0be1d7f8",
   "metadata": {
    "jp-MarkdownHeadingCollapsed": true,
    "tags": []
   },
   "source": [
    "# Bening Traffic from victims:"
   ]
  },
  {
   "cell_type": "markdown",
   "id": "0a3a731d-694b-4368-821a-5b87824790e1",
   "metadata": {
    "tags": []
   },
   "source": [
    "## Doorlock:"
   ]
  },
  {
   "cell_type": "code",
   "execution_count": null,
   "id": "3bcb1fda-7052-4e04-9e9f-4cf11db3ce0a",
   "metadata": {
    "tags": []
   },
   "outputs": [],
   "source": [
    "DATASET_ROOT = '/home/jovyan/nfs/jcevallos/datasets/iot23_full/'\n",
    "CURR_FOLDER = DATASET_ROOT + 'CTU-Honeypot-Capture-7-1/Somfy-01/'\n",
    "CURR_FILE = CURR_FOLDER + \"2019-07-03-15-15-47-first_start_somfy_gateway.pcap\""
   ]
  },
  {
   "cell_type": "code",
   "execution_count": null,
   "id": "1d0d1d02-512d-4568-a579-2977d0addb8e",
   "metadata": {
    "tags": []
   },
   "outputs": [],
   "source": [
    "# Create a Pandas dataframe from a Zeek log\n",
    "log_to_df = LogToDataFrame()\n",
    "bro_df = log_to_df.create_dataframe(CURR_FOLDER + 'bro/conn.log.labeled',\n",
    "                                    usecols = ['id.orig_h',\n",
    "                                               'id.orig_p',\n",
    "                                               'id.resp_h',\n",
    "                                               'id.resp_p',\n",
    "                                               'orig_pkts',\n",
    "                                               'resp_pkts',\n",
    "                                               'tunnel_parents   label   detailed-label'])\n",
    "\n",
    "# Print out the head of the dataframe\n",
    "bro_df.head()"
   ]
  },
  {
   "cell_type": "code",
   "execution_count": null,
   "id": "4e2eb08f-2de9-41b7-8fda-93ed40058e5e",
   "metadata": {
    "tags": []
   },
   "outputs": [],
   "source": [
    "filtered_df = bro_df[bro_df['id.orig_h'] == '192.168.1.158']"
   ]
  },
  {
   "cell_type": "code",
   "execution_count": null,
   "id": "c4d6f5d9-c72e-45bb-90a9-f8602f0ccebf",
   "metadata": {
    "tags": []
   },
   "outputs": [],
   "source": [
    "filtered_df"
   ]
  },
  {
   "cell_type": "code",
   "execution_count": null,
   "id": "3bc54c20-3004-4c90-9bb1-fefb9ca236f3",
   "metadata": {
    "tags": []
   },
   "outputs": [],
   "source": [
    "input_pcap_file = CURR_FILE\n",
    "output_pcap_file = CURR_FOLDER+\"doorlock_1.pcap\"\n",
    "\n",
    "filtered_packets = []\n",
    "\n",
    "# Define filtering criteria\n",
    "source_ip = '192.168.1.158'\n",
    "source_ip = ipaddress.IPv4Address(source_ip).packed\n",
    "\n",
    "packets_to_filter = 500000\n",
    "count = 0\n",
    "\n",
    "with open(input_pcap_file, 'rb') as f:\n",
    "    pcap = dpkt.pcap.Reader(f)\n",
    "\n",
    "    for idx, (timestamp, buf) in enumerate(pcap):\n",
    "        eth = dpkt.ethernet.Ethernet(buf)\n",
    "        ip = eth.data\n",
    "        # Filter packets based on the criteria\n",
    "        if isinstance(ip, dpkt.ip.IP) and ip.src == source_ip:\n",
    "\n",
    "            filtered_packets.append((timestamp, buf))\n",
    "            count += 1\n",
    "            if count > 0 and count % 1000 == 0:\n",
    "                print(count)\n",
    "            if count >= packets_to_filter:\n",
    "                break\n",
    "\n",
    "# Write the filtered packets to another PCAP file\n",
    "with open(output_pcap_file, 'wb') as f:\n",
    "    pcap_writer = dpkt.pcap.Writer(f)\n",
    "    for timestamp, buf in filtered_packets:\n",
    "        pcap_writer.writepkt(buf, timestamp)\n"
   ]
  },
  {
   "cell_type": "code",
   "execution_count": null,
   "id": "84b142f5-350e-48cd-ab40-2eaa643b9080",
   "metadata": {
    "tags": []
   },
   "outputs": [],
   "source": [
    "DATASET_ROOT = '/home/jovyan/nfs/jcevallos/datasets/iot23_full/'\n",
    "CURR_FOLDER = DATASET_ROOT + 'CTU-Honeypot-Capture-7-1/Somfy-02/'\n",
    "CURR_FILE = CURR_FOLDER + \"2019-07-03-16-41-09-192.168.1.158.pcap\""
   ]
  },
  {
   "cell_type": "code",
   "execution_count": null,
   "id": "05be273f-c275-40bb-bacb-46892c0a4114",
   "metadata": {
    "tags": []
   },
   "outputs": [],
   "source": [
    "input_pcap_file = CURR_FILE\n",
    "output_pcap_file = CURR_FOLDER+\"doorlock_2.pcap\"\n",
    "\n",
    "filtered_packets = []\n",
    "\n",
    "# Define filtering criteria\n",
    "source_ip = '192.168.1.158'\n",
    "source_ip = ipaddress.IPv4Address(source_ip).packed\n",
    "\n",
    "packets_to_filter = 500000\n",
    "count = 0\n",
    "\n",
    "with open(input_pcap_file, 'rb') as f:\n",
    "    pcap = dpkt.pcap.Reader(f)\n",
    "\n",
    "    for idx, (timestamp, buf) in enumerate(pcap):\n",
    "        eth = dpkt.ethernet.Ethernet(buf)\n",
    "        ip = eth.data\n",
    "        # Filter packets based on the criteria\n",
    "        if isinstance(ip, dpkt.ip.IP) and ip.src == source_ip:\n",
    "\n",
    "            filtered_packets.append((timestamp, buf))\n",
    "            count += 1\n",
    "            if count > 0 and count % 1000 == 0:\n",
    "                print(count)\n",
    "            if count >= packets_to_filter:\n",
    "                break\n",
    "\n",
    "# Write the filtered packets to another PCAP file\n",
    "with open(output_pcap_file, 'wb') as f:\n",
    "    pcap_writer = dpkt.pcap.Writer(f)\n",
    "    for timestamp, buf in filtered_packets:\n",
    "        pcap_writer.writepkt(buf, timestamp)"
   ]
  },
  {
   "cell_type": "code",
   "execution_count": null,
   "id": "f63c2721-83e5-4da4-9114-efd55a3379cd",
   "metadata": {
    "tags": []
   },
   "outputs": [],
   "source": [
    "DATASET_ROOT = '/home/jovyan/nfs/jcevallos/datasets/iot23_full/'\n",
    "CURR_FOLDER = DATASET_ROOT + 'CTU-Honeypot-Capture-7-1/Somfy-03/'\n",
    "CURR_FILE = CURR_FOLDER + \"2019-07-04-16-41-10-192.168.1.158.pcap\""
   ]
  },
  {
   "cell_type": "code",
   "execution_count": null,
   "id": "0c5ca1af-02e9-4644-8d30-aaf498ea58dd",
   "metadata": {
    "tags": []
   },
   "outputs": [],
   "source": [
    "input_pcap_file = CURR_FILE\n",
    "output_pcap_file = CURR_FOLDER+\"doorlock_3.pcap\"\n",
    "\n",
    "filtered_packets = []\n",
    "\n",
    "# Define filtering criteria\n",
    "source_ip = '192.168.1.158'\n",
    "source_ip = ipaddress.IPv4Address(source_ip).packed\n",
    "\n",
    "packets_to_filter = 500000\n",
    "count = 0\n",
    "\n",
    "with open(input_pcap_file, 'rb') as f:\n",
    "    pcap = dpkt.pcap.Reader(f)\n",
    "\n",
    "    for idx, (timestamp, buf) in enumerate(pcap):\n",
    "        eth = dpkt.ethernet.Ethernet(buf)\n",
    "        ip = eth.data\n",
    "        # Filter packets based on the criteria\n",
    "        if isinstance(ip, dpkt.ip.IP) and ip.src == source_ip:\n",
    "\n",
    "            filtered_packets.append((timestamp, buf))\n",
    "            count += 1\n",
    "            if count > 0 and count % 1000 == 0:\n",
    "                print(count)\n",
    "            if count >= packets_to_filter:\n",
    "                break\n",
    "\n",
    "# Write the filtered packets to another PCAP file\n",
    "with open(output_pcap_file, 'wb') as f:\n",
    "    pcap_writer = dpkt.pcap.Writer(f)\n",
    "    for timestamp, buf in filtered_packets:\n",
    "        pcap_writer.writepkt(buf, timestamp)"
   ]
  },
  {
   "cell_type": "markdown",
   "id": "6cdfa2a5-0b28-4a46-84c5-50ce50607ee0",
   "metadata": {
    "jp-MarkdownHeadingCollapsed": true,
    "tags": []
   },
   "source": [
    "# Echo"
   ]
  },
  {
   "cell_type": "code",
   "execution_count": null,
   "id": "5dae58e8-157f-482d-b238-2248787e3ec9",
   "metadata": {
    "tags": []
   },
   "outputs": [],
   "source": [
    "DATASET_ROOT = '/home/jovyan/nfs/jcevallos/datasets/iot23_full/'\n",
    "CURR_FOLDER = DATASET_ROOT + 'CTU-Honeypot-Capture-5-1/'\n",
    "CURR_FILE = CURR_FOLDER + \"2018-09-21-capture.pcap\""
   ]
  },
  {
   "cell_type": "code",
   "execution_count": null,
   "id": "a369589f-6ccc-4e4a-8fe4-b6fb7068ef24",
   "metadata": {
    "tags": []
   },
   "outputs": [],
   "source": [
    "# Create a Pandas dataframe from a Zeek log\n",
    "log_to_df = LogToDataFrame()\n",
    "bro_df = log_to_df.create_dataframe(CURR_FOLDER + 'bro/conn.log.labeled',\n",
    "                                    usecols = ['id.orig_h',\n",
    "                                               'id.orig_p',\n",
    "                                               'id.resp_h',\n",
    "                                               'id.resp_p',\n",
    "                                               'orig_pkts',\n",
    "                                               'resp_pkts',\n",
    "                                               'tunnel_parents   label   detailed-label'])\n",
    "\n",
    "# Print out the head of the dataframe\n",
    "bro_df.head()"
   ]
  },
  {
   "cell_type": "code",
   "execution_count": null,
   "id": "914656a2-f8be-4c87-8166-d6bf824641b5",
   "metadata": {
    "tags": []
   },
   "outputs": [],
   "source": [
    "bro_df.sort_values('orig_pkts')"
   ]
  },
  {
   "cell_type": "code",
   "execution_count": null,
   "id": "4fd50d32-6f89-4b9b-a146-aa4dcf0ab565",
   "metadata": {
    "tags": []
   },
   "outputs": [],
   "source": [
    "bro_df['tunnel_parents   label   detailed-label'].unique()"
   ]
  },
  {
   "cell_type": "code",
   "execution_count": null,
   "id": "f139db80-e3bf-4674-b09e-e65b686e3df6",
   "metadata": {
    "tags": []
   },
   "outputs": [],
   "source": [
    "input_pcap_file = CURR_FILE\n",
    "output_pcap_file = CURR_FOLDER+\"echo.pcap\"\n",
    "\n",
    "filtered_packets = []\n",
    "\n",
    "# Define filtering criteria\n",
    "source_ip = '192.168.2.3'\n",
    "source_ip = ipaddress.IPv4Address(source_ip).packed\n",
    "\n",
    "packets_to_filter = 1000000\n",
    "count = 0\n",
    "\n",
    "with open(input_pcap_file, 'rb') as f:\n",
    "    pcap = dpkt.pcap.Reader(f)\n",
    "\n",
    "    for idx, (timestamp, buf) in enumerate(pcap):\n",
    "        eth = dpkt.ethernet.Ethernet(buf)\n",
    "        ip = eth.data\n",
    "        # Filter packets based on the criteria\n",
    "        if isinstance(ip, dpkt.ip.IP) and ip.src == source_ip:\n",
    "\n",
    "            filtered_packets.append((timestamp, buf))\n",
    "            count += 1\n",
    "            if count > 0 and count % 1000 == 0:\n",
    "                print(count)\n",
    "            if count >= packets_to_filter:\n",
    "                break\n",
    "\n",
    "# Write the filtered packets to another PCAP file\n",
    "with open(output_pcap_file, 'wb') as f:\n",
    "    pcap_writer = dpkt.pcap.Writer(f)\n",
    "    for timestamp, buf in filtered_packets:\n",
    "        pcap_writer.writepkt(buf, timestamp)"
   ]
  },
  {
   "cell_type": "markdown",
   "id": "20e738a9-c689-410e-ae69-a6df991730ad",
   "metadata": {
    "jp-MarkdownHeadingCollapsed": true,
    "tags": []
   },
   "source": [
    "# Hue:"
   ]
  },
  {
   "cell_type": "code",
   "execution_count": null,
   "id": "6238e7bc-5bbf-4c98-a4be-01483ee1a976",
   "metadata": {
    "tags": []
   },
   "outputs": [],
   "source": [
    "DATASET_ROOT = '/home/jovyan/nfs/jcevallos/datasets/iot23_full/'\n",
    "CURR_FOLDER = DATASET_ROOT + 'CTU-Honeypot-Capture-4-1/'\n",
    "CURR_FILE = CURR_FOLDER + \"2018-10-25-14-06-32-192.168.1.132.pcap\""
   ]
  },
  {
   "cell_type": "code",
   "execution_count": null,
   "id": "11c9eab5-fbac-4fa2-9b68-eead1373638d",
   "metadata": {
    "tags": []
   },
   "outputs": [],
   "source": [
    "# Create a Pandas dataframe from a Zeek log\n",
    "log_to_df = LogToDataFrame()\n",
    "bro_df = log_to_df.create_dataframe(CURR_FOLDER + 'bro/conn.log.labeled',\n",
    "                                    usecols = ['id.orig_h',\n",
    "                                               'id.orig_p',\n",
    "                                               'id.resp_h',\n",
    "                                               'id.resp_p',\n",
    "                                               'orig_pkts',\n",
    "                                               'resp_pkts',\n",
    "                                               'tunnel_parents   label   detailed-label'])\n",
    "\n",
    "# Print out the head of the dataframe\n",
    "bro_df.head()"
   ]
  },
  {
   "cell_type": "code",
   "execution_count": null,
   "id": "1d9087b8-73f0-448c-b121-3c2220d67108",
   "metadata": {
    "tags": []
   },
   "outputs": [],
   "source": [
    "bro_df['tunnel_parents   label   detailed-label'].unique()"
   ]
  },
  {
   "cell_type": "code",
   "execution_count": null,
   "id": "48b5afeb-0f96-4865-b6bd-2376d2cc62d0",
   "metadata": {
    "tags": []
   },
   "outputs": [],
   "source": [
    "input_pcap_file = CURR_FILE\n",
    "output_pcap_file = CURR_FOLDER+\"hue_2.pcap\"\n",
    "\n",
    "filtered_packets = []\n",
    "\n",
    "# Define filtering criteria\n",
    "source_ip = '192.168.1.132'\n",
    "source_ip = ipaddress.IPv4Address(source_ip).packed\n",
    "\n",
    "packets_to_filter = 1000000\n",
    "count = 0\n",
    "\n",
    "with open(input_pcap_file, 'rb') as f:\n",
    "    pcap = dpkt.pcap.Reader(f)\n",
    "\n",
    "    for idx, (timestamp, buf) in enumerate(pcap):\n",
    "        eth = dpkt.ethernet.Ethernet(buf)\n",
    "        ip = eth.data\n",
    "        # Filter packets based on the criteria\n",
    "        if isinstance(ip, dpkt.ip.IP) and ip.src == source_ip:\n",
    "\n",
    "            filtered_packets.append((timestamp, buf))\n",
    "            count += 1\n",
    "            if count > 0 and count % 1000 == 0:\n",
    "                print(count)\n",
    "            if count >= packets_to_filter:\n",
    "                break\n",
    "\n",
    "# Write the filtered packets to another PCAP file\n",
    "with open(output_pcap_file, 'wb') as f:\n",
    "    pcap_writer = dpkt.pcap.Writer(f)\n",
    "    for timestamp, buf in filtered_packets:\n",
    "        pcap_writer.writepkt(buf, timestamp)"
   ]
  }
 ],
 "metadata": {
  "kernelspec": {
   "display_name": "base",
   "language": "python",
   "name": "base"
  },
  "language_info": {
   "codemirror_mode": {
    "name": "ipython",
    "version": 3
   },
   "file_extension": ".py",
   "mimetype": "text/x-python",
   "name": "python",
   "nbconvert_exporter": "python",
   "pygments_lexer": "ipython3",
   "version": "3.10.10"
  }
 },
 "nbformat": 4,
 "nbformat_minor": 5
}
